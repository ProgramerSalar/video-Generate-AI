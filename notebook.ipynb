{
 "cells": [
  {
   "cell_type": "markdown",
   "metadata": {},
   "source": [
    "## Config"
   ]
  },
  {
   "cell_type": "code",
   "execution_count": 2,
   "metadata": {},
   "outputs": [],
   "source": [
    "from dataclasses import dataclass, field\n",
    "from typing import Dict, List, Optional\n",
    "\n",
    "from trl import ModelConfig\n",
    "from trl.commands.cli_utils import SFTScriptArguments\n",
    "\n",
    "\n",
    "@dataclass\n",
    "class AriaModelConfig(ModelConfig):\n",
    "\n",
    "    tokenizer_path: str = field(\n",
    "        default=None,\n",
    "        metadata={\"help\": \"The path to the tokenizer.\"},\n",
    "    )\n",
    "\n",
    "    peft_model_path: str = field(\n",
    "        default=None,\n",
    "        metadata={\"help\": \"The path to the PEFT model.\"}\n",
    "    )\n",
    "\n",
    "\n",
    "    freeze_projector: bool = field(\n",
    "        default=True,\n",
    "        metadata={\"help\": \"Whether to freeze the projector.\"}\n",
    "    )\n",
    "\n",
    "    freeze_llm: bool = field(\n",
    "        default=False,\n",
    "        metadata={\"help\": \"Wheather to freeze the LLM model.\"}\n",
    "    )\n",
    "\n",
    "    freeze_llm_player: List[int] = field(\n",
    "        default=None,\n",
    "        metadata={\"help\": \"The indices of the LLM layers to freeze.\"}\n",
    "    )\n",
    "\n",
    "    moe_z_loss_coeff: float = field(\n",
    "        default=1e-5,\n",
    "        metadata={\"help\": \"The coefficient for the z loss\"}\n",
    "    )\n",
    "\n",
    "   \n",
    "\n",
    "    moe_aux_loss_coeff: float = field(\n",
    "        default= 900,\n",
    "        metadata={\n",
    "            \"help\": \"The maximum size of the image after processing before being passed to the vision encoder.\",\n",
    "            \"choices\": [490, 980]\n",
    "        }\n",
    "    )\n",
    "\n",
    "\n",
    "    def __post_init__(self):\n",
    "        super().__post_init__()\n",
    "        if self.max_image_size not in [490, 900]:\n",
    "            raise ValueError(\"max_image_size must be either 490 or 980\")\n"
   ]
  },
  {
   "cell_type": "markdown",
   "metadata": {},
   "source": [
    "## Data"
   ]
  },
  {
   "cell_type": "code",
   "execution_count": 4,
   "metadata": {},
   "outputs": [
    {
     "name": "stdout",
     "output_type": "stream",
     "text": [
      "This is a sample text.\n",
      "<fim_prefix><|img|><fim_suffix>\n"
     ]
    }
   ],
   "source": [
    "def process_content(content):\n",
    "\n",
    "    if content[\"type\"] == \"text\":\n",
    "        return content[\"text\"]\n",
    "    \n",
    "\n",
    "    elif content[\"type\"] == \"image\":\n",
    "        return \"<fim_prefix><|img|><fim_suffix>\"\n",
    "    \n",
    "    else:\n",
    "        raise ValueError(f\"Unknown content type {content['type']} in message\")\n",
    "    \n",
    "\n",
    "content_text = {\"type\": \"text\", \"text\": \"This is a sample text.\"}\n",
    "content_image = {\"type\": \"image\"}\n",
    "\n",
    "print(process_content(content_text))  # Output: This is a sample text.\n",
    "print(process_content(content_image))  # Output: <fim_prefix><|img|<fim_suffix>\n"
   ]
  },
  {
   "cell_type": "code",
   "execution_count": null,
   "metadata": {},
   "outputs": [],
   "source": [
    "def tokenizer_message(role, text):\n",
    "    return (\n",
    "        im_start_tokens \n",
    "        + (user_tokens if role == \"user\" else ass)\n",
    "    )"
   ]
  }
 ],
 "metadata": {
  "kernelspec": {
   "display_name": "Python 3",
   "language": "python",
   "name": "python3"
  },
  "language_info": {
   "codemirror_mode": {
    "name": "ipython",
    "version": 3
   },
   "file_extension": ".py",
   "mimetype": "text/x-python",
   "name": "python",
   "nbconvert_exporter": "python",
   "pygments_lexer": "ipython3",
   "version": "3.12.0b4"
  }
 },
 "nbformat": 4,
 "nbformat_minor": 2
}
